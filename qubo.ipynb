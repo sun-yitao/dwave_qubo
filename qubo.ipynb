{
 "cells": [
  {
   "cell_type": "code",
   "execution_count": 1,
   "id": "worthy-carnival",
   "metadata": {},
   "outputs": [],
   "source": [
    "import time\n",
    "import numpy as np\n",
    "import pandas as pd\n",
    "import dwave\n",
    "from dwave_qbsolv import QBSolv\n",
    "from dwave.system import EmbeddingComposite, FixedEmbeddingComposite, DWaveSampler"
   ]
  },
  {
   "cell_type": "code",
   "execution_count": 2,
   "id": "dietary-tanzania",
   "metadata": {},
   "outputs": [],
   "source": [
    "# User defines upper triangular QUBO problem\n",
    "def create_upper_matrix(values, size):\n",
    "    upper = np.zeros((size, size))\n",
    "    upper[np.triu_indices(size, 0)] = values\n",
    "    return upper"
   ]
  },
  {
   "cell_type": "code",
   "execution_count": 3,
   "id": "interesting-triple",
   "metadata": {},
   "outputs": [],
   "source": [
    "def create_random_upper_matrix(n, density=0.05, max_aij=100):\n",
    "    prob_zero = 1 - density\n",
    "    num_values = 0\n",
    "    for i in range(n):\n",
    "        num_values += (i + 1)\n",
    "    value_range = [x for x in range(-max_aij, max_aij)]\n",
    "    value_probs = [prob_zero if x == 0 else (1 - prob_zero) / (len(value_range) - 1) for x in value_range]\n",
    "    return create_upper_matrix(np.random.choice(value_range, p=value_probs, size=num_values), n)"
   ]
  },
  {
   "cell_type": "code",
   "execution_count": 4,
   "id": "judicial-procurement",
   "metadata": {},
   "outputs": [],
   "source": [
    "def save_Q(Q, output_path):\n",
    "    # note Q must be upper triangular for this\n",
    "    strings = []\n",
    "    num_edges = 0\n",
    "    vertices = 0\n",
    "    for edge, v in Q.items():\n",
    "        if v != 0:\n",
    "            strings.append(f'{edge[0]+1} {edge[1]+1} {-v}') #need to negate weights since MQLib is maximisation\n",
    "            num_edges += 1\n",
    "            vertices = max(vertices, edge[0]+1, edge[1]+1)\n",
    "                \n",
    "    strings.insert(0, f'{vertices} {num_edges}')\n",
    "    with open(output_path, 'w') as f:\n",
    "        f.writelines('\\n'.join(strings))"
   ]
  },
  {
   "cell_type": "code",
   "execution_count": 5,
   "id": "least-postage",
   "metadata": {},
   "outputs": [],
   "source": [
    "def save_matrix(problem, output_path='data/instance.txt'):\n",
    "    \"\"\"Saves np matrix in MQLib format\"\"\"\n",
    "    strings = []\n",
    "    num_edges = 0\n",
    "    for i in range(problem.shape[0]):\n",
    "        for j in range(i, problem.shape[0]):\n",
    "            if problem[i][j] != 0:\n",
    "                strings.append(f'{i+1} {j+1} {-problem[i][j]}') #need to negate weights since MQLib is maximisation\n",
    "                num_edges += 1\n",
    "                \n",
    "    strings.insert(0, f'{problem.shape[0]} {num_edges}')\n",
    "    with open(output_path, 'w') as f:\n",
    "        f.writelines('\\n'.join(strings))"
   ]
  },
  {
   "cell_type": "code",
   "execution_count": 6,
   "id": "differential-bread",
   "metadata": {},
   "outputs": [],
   "source": [
    "def load_matrix(input_path):\n",
    "    with open(input_path, 'r') as f:\n",
    "        lines = f.read().splitlines()\n",
    "        n = int(lines[0].split()[0])\n",
    "        problem = np.zeros((n, n))\n",
    "        for line in lines[1:]:\n",
    "            i, j, w = map(float, line.split())\n",
    "            problem[int(i-1)][int(j-1)] = -w\n",
    "        return problem"
   ]
  },
  {
   "cell_type": "markdown",
   "id": "determined-factory",
   "metadata": {},
   "source": [
    "## Problem creation"
   ]
  },
  {
   "cell_type": "code",
   "execution_count": 20,
   "id": "attempted-accreditation",
   "metadata": {},
   "outputs": [],
   "source": [
    "# solution: y=-11, x=1001\n",
    "#n = 4\n",
    "#problem = create_upper_matrix([-5, 4, 8, 0, -3, 2, 0, -8, 10, -6], n)"
   ]
  },
  {
   "cell_type": "code",
   "execution_count": 11,
   "id": "departmental-agriculture",
   "metadata": {},
   "outputs": [],
   "source": [
    "n = 64\n",
    "problem = create_random_upper_matrix(n, density=0.85)"
   ]
  },
  {
   "cell_type": "code",
   "execution_count": 18,
   "id": "forward-thermal",
   "metadata": {},
   "outputs": [],
   "source": [
    "Q = {}\n",
    "for i in range(problem.shape[0]):\n",
    "    for j in range(i, problem.shape[0]):\n",
    "        if i == j:\n",
    "            Q[(i, j)] = problem[i][j]\n",
    "        else :\n",
    "            Q[(i, j)] = problem[i][j] * 2"
   ]
  },
  {
   "cell_type": "markdown",
   "id": "alone-illness",
   "metadata": {},
   "source": [
    "## Heuristic and Dwave"
   ]
  },
  {
   "cell_type": "code",
   "execution_count": 19,
   "id": "passive-strap",
   "metadata": {
    "scrolled": true
   },
   "outputs": [
    {
     "name": "stdout",
     "output_type": "stream",
     "text": [
      "--- 0.224 seconds ---\n",
      "samples=['0000100101101111100011000111001101101011111110011010101001011111', '1010010010001111011001100111110100100110111110010101111101010101', '1010000010001111011001100111110100100111111110010101111101010101', '1110010011001111010001000111010101101011111110110110111001010001', '1000100111101111110011000111111101100010111110010001101001010111']\n",
      "energies=[-14199.0, -14089.0, -14081.0, -14044.0, -13936.0]\n"
     ]
    }
   ],
   "source": [
    "# Classical heuristic solver using tabu search\n",
    "qbsolv = QBSolv()\n",
    "start_time = time.time()\n",
    "response = qbsolv.sample_qubo(Q, num_repeats=50)\n",
    "print(\"--- %.3f seconds ---\" % (time.time() - start_time))\n",
    "samples = []\n",
    "for sample in list(response.samples()):\n",
    "    result = []\n",
    "    for i in range(n):\n",
    "        result.append(str(sample[i]))\n",
    "    samples.append(''.join(result))\n",
    "print(\"samples=\" + str(samples))\n",
    "print(\"energies=\" + str(list(response.data_vectors['energy'])))"
   ]
  },
  {
   "cell_type": "code",
   "execution_count": 33,
   "id": "behind-universe",
   "metadata": {},
   "outputs": [],
   "source": [
    "#embedding = dwave.embedding.pegasus.find_clique_embedding(100, 15)\n",
    "#sampler = FixedEmbeddingComposite(DWaveSampler(), embedding=embedding)"
   ]
  },
  {
   "cell_type": "code",
   "execution_count": 90,
   "id": "educational-exhibition",
   "metadata": {},
   "outputs": [
    {
     "name": "stdout",
     "output_type": "stream",
     "text": [
      "--- 0.344 seconds ---\n",
      "   0  1  2  3  4  5  6  7  8  9 10 11 12 13 14 15 energy num_oc. chain_.\n",
      "0  1  1  1  0  1  1  0  0  0  0  0  1  1  0  0  0  -54.0       1     0.0\n",
      "1  1  1  0  1  1  1  1  0  0  0  0  0  1  0  0  0  -54.0       1     0.0\n",
      "2  1  0  1  1  1  1  1  0  1  0  0  0  1  0  1  0  -54.0       1     0.0\n",
      "3  0  0  1  0  1  1  1  1  0  0  0  0  1  1  0  0  -54.0       1     0.0\n",
      "4  0  0  1  1  1  0  0  1  0  0  0  0  1  0  1  0  -54.0       1     0.0\n",
      "5  0  1  0  0  1  1  1  0  0  0  0  0  1  1  0  0  -54.0       1     0.0\n",
      "6  0  1  0  1  1  0  1  0  0  1  0  0  1  1  0  0  -54.0       1     0.0\n",
      "7  1  1  1  1  1  0  1  0  1  0  0  1  1  0  1  0  -54.0       1     0.0\n",
      "9  1  0  1  1  1  1  1  0  0  0  0  0  1  0  0  0  -54.0       1  0.0625\n",
      "8  1  1  1  1  1  1  1  1  0  0  0  0  1  0  1  0  -49.0       1     0.0\n",
      "['BINARY', 10 rows, 10 samples, 16 variables]\n"
     ]
    }
   ],
   "source": [
    "# Define the sampler that will be used to run the problem\n",
    "sampler = EmbeddingComposite(DWaveSampler())\n",
    "\n",
    "# Run the problem on the sampler and print the results\n",
    "start_time = time.time()\n",
    "sampleset = sampler.sample_qubo(Q, num_reads=10, label=f'QUBO {n} variables')\n",
    "print(\"--- %.3f seconds ---\" % (time.time() - start_time))\n",
    "\n",
    "print(sampleset)"
   ]
  },
  {
   "cell_type": "code",
   "execution_count": 158,
   "id": "competent-valentine",
   "metadata": {},
   "outputs": [
    {
     "data": {
      "text/plain": [
       "-84.3"
      ]
     },
     "execution_count": 158,
     "metadata": {},
     "output_type": "execute_result"
    }
   ],
   "source": [
    "sampleset.to_pandas_dataframe()['energy'].mean()"
   ]
  },
  {
   "cell_type": "code",
   "execution_count": 159,
   "id": "wireless-stone",
   "metadata": {},
   "outputs": [
    {
     "name": "stdout",
     "output_type": "stream",
     "text": [
      "0.027374\n"
     ]
    }
   ],
   "source": [
    "print(sampleset.info['timing']['qpu_access_time'] / 10**6)   "
   ]
  },
  {
   "cell_type": "markdown",
   "id": "hollow-worry",
   "metadata": {},
   "source": [
    "## Random Target Graph"
   ]
  },
  {
   "cell_type": "code",
   "execution_count": 21,
   "id": "loose-lending",
   "metadata": {},
   "outputs": [],
   "source": [
    "import dimod"
   ]
  },
  {
   "cell_type": "code",
   "execution_count": 22,
   "id": "every-christian",
   "metadata": {},
   "outputs": [],
   "source": [
    "target_structure = dimod.child_structure_dfs(DWaveSampler())"
   ]
  },
  {
   "cell_type": "code",
   "execution_count": 23,
   "id": "precise-capture",
   "metadata": {},
   "outputs": [],
   "source": [
    "__, target_edgelist, target_adjacency = target_structure"
   ]
  },
  {
   "cell_type": "code",
   "execution_count": 24,
   "id": "formal-surfing",
   "metadata": {},
   "outputs": [
    {
     "data": {
      "text/plain": [
       "5436"
      ]
     },
     "execution_count": 24,
     "metadata": {},
     "output_type": "execute_result"
    }
   ],
   "source": [
    "len(target_adjacency)"
   ]
  },
  {
   "cell_type": "code",
   "execution_count": 25,
   "id": "official-donor",
   "metadata": {},
   "outputs": [
    {
     "name": "stdout",
     "output_type": "stream",
     "text": [
      "160:  {4800, 161, 4770, 4935, 4905, 4875, 4845, 175, 4815, 4785, 4920, 4890, 4860, 4830, 159}\n",
      "161:  {160, 5025, 162, 4995, 4965, 5100, 5070, 176, 5040, 5010, 4980, 4950, 5115, 5085, 5055}\n",
      "162:  {5280, 161, 5250, 5220, 5190, 5160, 5130, 5295, 177, 5265, 5235, 5175}\n",
      "163:  {5475, 164, 5445, 5415, 5385, 5355, 5325, 178, 5460, 5430, 5400, 5370, 5340, 5310}\n",
      "164:  {5505, 163, 5640, 5610, 5580, 5550, 5520, 5490, 179, 5655, 5625, 5595, 5565, 5535}\n",
      "165:  {3105, 3075, 3045, 166, 3015, 2985, 3120, 3090, 3060, 150, 3030, 3000, 2970, 3135}\n",
      "166:  {3255, 3300, 165, 3270, 167, 3240, 3210, 3180, 3150, 3315, 3285, 151, 3225, 3195, 3165}\n",
      "167:  {3360, 3330, 3480, 166, 3495, 168, 3465, 3435, 3405, 3375, 3345, 152, 3450, 3420, 3390}\n",
      "168:  {3585, 3555, 3525, 167, 169, 3660, 3630, 3600, 3570, 3540, 3510, 153, 3675, 3645, 3615}\n",
      "169:  {3840, 3810, 3780, 3750, 168, 3720, 170, 3690, 3855, 3825, 3795, 3765, 3735, 3705, 154}\n"
     ]
    }
   ],
   "source": [
    "from collections import Counter\n",
    "counter = Counter()\n",
    "for i in range(160, 170):\n",
    "    print(f'{i}: ', target_adjacency[i])\n",
    "for k,v in target_adjacency.items():\n",
    "    counter[len(v)] += 1"
   ]
  },
  {
   "cell_type": "code",
   "execution_count": 26,
   "id": "british-michael",
   "metadata": {},
   "outputs": [
    {
     "data": {
      "text/plain": [
       "Counter({5: 12,\n",
       "         7: 162,\n",
       "         6: 62,\n",
       "         4: 1,\n",
       "         10: 78,\n",
       "         11: 175,\n",
       "         9: 34,\n",
       "         14: 1591,\n",
       "         15: 2536,\n",
       "         12: 165,\n",
       "         13: 612,\n",
       "         8: 5,\n",
       "         3: 3})"
      ]
     },
     "execution_count": 26,
     "metadata": {},
     "output_type": "execute_result"
    }
   ],
   "source": [
    "counter"
   ]
  },
  {
   "cell_type": "code",
   "execution_count": 246,
   "id": "present-scheduling",
   "metadata": {},
   "outputs": [],
   "source": [
    "# Problem generation\n",
    "Q = {}\n",
    "for edge in target_edgelist:\n",
    "    Q[edge] = np.random.randint(-1, 2) # -1, 0, 1"
   ]
  },
  {
   "cell_type": "code",
   "execution_count": 247,
   "id": "younger-budget",
   "metadata": {},
   "outputs": [
    {
     "name": "stdout",
     "output_type": "stream",
     "text": [
      "--- 45.854 seconds ---\n",
      "energies=[-4761.0, -4758.0, -4755.0, -4755.0, -4754.0, -4754.0, -4753.0, -4752.0, -4752.0, -4751.0, -4750.0, -4750.0, -4750.0, -4748.0, -4748.0, -4747.0, -4747.0, -4746.0, -4745.0, -4745.0]\n"
     ]
    }
   ],
   "source": [
    "#### Classical heuristic solver using tabu search\n",
    "qbsolv = QBSolv()\n",
    "start_time = time.time()\n",
    "response = qbsolv.sample_qubo(Q, num_repeats=50)\n",
    "print(\"--- %.3f seconds ---\" % (time.time() - start_time))\n",
    "print(\"energies=\" + str(list(response.data_vectors['energy'])))"
   ]
  },
  {
   "cell_type": "code",
   "execution_count": 238,
   "id": "conventional-concrete",
   "metadata": {},
   "outputs": [
    {
     "name": "stdout",
     "output_type": "stream",
     "text": [
      "--- 0.288 seconds ---\n",
      "  30 31 32 33 34 35 36 37 38 39 40 41 42 43 44 45 46 ... 5729  energy num_oc.\n",
      "0  1  0  0  1  1  1  1  0  1  1  0  1  0  0  0  1  1 ...    1 -4742.0       1\n",
      "1  0  1  0  1  1  1  1  0  1  1  0  1  1  0  0  1  1 ...    1 -4736.0       1\n",
      "2  0  1  0  1  1  1  1  0  1  1  0  1  0  0  0  1  1 ...    1 -4734.0       1\n",
      "3  0  1  0  1  1  1  1  0  1  1  0  1  0  0  0  1  1 ...    1 -4729.0       1\n",
      "4  0  1  0  1  1  0  1  0  1  1  0  1  1  0  0  1  1 ...    1 -4728.0       1\n",
      "5  0  1  0  1  1  1  1  0  1  1  0  1  0  0  0  1  1 ...    1 -4728.0       1\n",
      "6  0  0  0  1  1  1  1  0  1  1  0  1  1  0  0  1  1 ...    1 -4726.0       1\n",
      "7  1  0  0  1  1  1  1  0  1  1  0  1  0  0  0  1  1 ...    1 -4725.0       1\n",
      "8  0  1  0  1  1  1  1  0  1  1  0  1  1  0  0  1  1 ...    1 -4721.0       1\n",
      "9  0  1  0  1  1  1  1  0  1  1  0  1  1  0  0  1  1 ...    1 -4718.0       1\n",
      "['BINARY', 10 rows, 10 samples, 5436 variables]\n"
     ]
    }
   ],
   "source": [
    "sampler = DWaveSampler()\n",
    "\n",
    "# Run the problem on the sampler and print the results\n",
    "start_time = time.time()\n",
    "sampleset = sampler.sample_qubo(Q, num_reads=10, label=f'QUBO {n} variables')\n",
    "print(\"--- %.3f seconds ---\" % (time.time() - start_time))\n",
    "\n",
    "print(sampleset)"
   ]
  },
  {
   "cell_type": "code",
   "execution_count": 239,
   "id": "passing-subsection",
   "metadata": {},
   "outputs": [
    {
     "name": "stdout",
     "output_type": "stream",
     "text": [
      "0.027756\n"
     ]
    }
   ],
   "source": [
    "print(sampleset.info['timing']['qpu_access_time'] / 10**6)"
   ]
  },
  {
   "cell_type": "markdown",
   "id": "prime-frequency",
   "metadata": {},
   "source": [
    "#### Qiskit"
   ]
  },
  {
   "cell_type": "code",
   "execution_count": 49,
   "id": "executed-medication",
   "metadata": {},
   "outputs": [],
   "source": [
    "from qiskit.optimization.algorithms import CplexOptimizer, MinimumEigenOptimizer\n",
    "from qiskit.aqua.algorithms import NumPyMinimumEigensolver\n",
    "from qiskit.optimization.problems import QuadraticProgram"
   ]
  },
  {
   "cell_type": "code",
   "execution_count": 50,
   "id": "incoming-sugar",
   "metadata": {},
   "outputs": [],
   "source": [
    "exact = MinimumEigenOptimizer(NumPyMinimumEigensolver()) # to solve QUBOs\n",
    "\n",
    "# in case CPLEX is installed it can also be used for the convex problems, the QUBO,\n",
    "# or as a benchmark for the full problem.\n",
    "cplex = CplexOptimizer()"
   ]
  },
  {
   "cell_type": "code",
   "execution_count": 59,
   "id": "proud-serum",
   "metadata": {},
   "outputs": [],
   "source": [
    "qubo = QuadraticProgram()\n",
    "for i in range(n):\n",
    "    qubo.binary_var(str(i))\n",
    "quadratic = {(str(i), str(j)): problem[i][j] for i in range(n) for j in range(n)}\n",
    "qubo.minimize(quadratic=quadratic)"
   ]
  },
  {
   "cell_type": "code",
   "execution_count": 96,
   "id": "blank-terrorism",
   "metadata": {},
   "outputs": [
    {
     "data": {
      "text/plain": [
       "-373.0"
      ]
     },
     "execution_count": 96,
     "metadata": {},
     "output_type": "execute_result"
    }
   ],
   "source": [
    "cplex_result.fval"
   ]
  },
  {
   "cell_type": "code",
   "execution_count": 60,
   "id": "convenient-source",
   "metadata": {},
   "outputs": [
    {
     "name": "stdout",
     "output_type": "stream",
     "text": [
      "--- 0.037 seconds ---\n",
      "optimal function value: -373.0\n",
      "optimal value: [1. 1. 0. 0. 1. 1. 0. 1. 0. 1. 1. 1. 0. 0. 0. 1.]\n",
      "status: SUCCESS\n"
     ]
    }
   ],
   "source": [
    "start_time = time.time()\n",
    "cplex_result = cplex.solve(qubo)\n",
    "print(\"--- %.3f seconds ---\" % (time.time() - start_time))\n",
    "print(cplex_result)"
   ]
  },
  {
   "cell_type": "code",
   "execution_count": null,
   "id": "armed-auction",
   "metadata": {},
   "outputs": [],
   "source": [
    "start_time = time.time()\n",
    "exact_result = exact.solve(qubo)\n",
    "print(\"--- %.3f seconds ---\" % (time.time() - start_time))\n",
    "print(exact_result)"
   ]
  },
  {
   "cell_type": "markdown",
   "id": "received-thirty",
   "metadata": {},
   "source": [
    "## Generate QUBO of size n, evaluate on Tabu and D-Wave and repeat t times"
   ]
  },
  {
   "cell_type": "code",
   "execution_count": 26,
   "id": "pending-disease",
   "metadata": {
    "scrolled": true
   },
   "outputs": [],
   "source": [
    "def generate_and_evaluate_qubo(n=16, density=0.05, max_aij=100, num_shots=10, t=50, run_cplex=True, save_matrix=True):\n",
    "    d = {'Tabu Min': [], 'Tabu Time': [], 'D-Wave Min': [], 'D-Wave Time (Total)': [], 'D-Wave Time (Quantum)': []}\n",
    "    if run_cplex:\n",
    "        d['CPLEX Min'] = []\n",
    "        d['CPLEX Time'] = []\n",
    "    \n",
    "    for i in range(t):\n",
    "        print(f'ITERATION {i}/{t}')\n",
    "        problem = create_random_upper_matrix(n, density=density, max_aij=max_aij)\n",
    "        if save_matrix:\n",
    "            save_matrix(problem, f'data/random_qubo_instances/{n}_{int(density*100)}_{max_aij}_{i}.txt')\n",
    "\n",
    "        Q = {}\n",
    "        for i in range(problem.shape[0]):\n",
    "            for j in range(i, problem.shape[0]):\n",
    "                Q[(i, j)] = problem[i][j]\n",
    "\n",
    "        # Classical heuristic solver using tabu search\n",
    "        qbsolv = QBSolv()\n",
    "        start_time = time.time()\n",
    "        response = qbsolv.sample_qubo(Q, num_repeats=50)\n",
    "        elapsed_time = time.time() - start_time\n",
    "        min_energy = list(response.data_vectors['energy'])[0]\n",
    "        d['Tabu Min'].append(min_energy)\n",
    "        d['Tabu Time'].append(elapsed_time)\n",
    "\n",
    "        # D-Wave\n",
    "        try:\n",
    "            sampler = EmbeddingComposite(DWaveSampler())\n",
    "            start_time = time.time()\n",
    "            sampleset = sampler.sample_qubo(Q, num_reads=num_shots, label=f'QUBO {n} variables')\n",
    "            elapsed_time = time.time() - start_time\n",
    "            d['D-Wave Min'].append(min(sampleset.to_pandas_dataframe()['energy']))\n",
    "            d['D-Wave Time (Total)'].append(elapsed_time)\n",
    "            d['D-Wave Time (Quantum)'].append(sampleset.info['timing']['qpu_access_time'] / 10**6)\n",
    "        except ValueError: # no embedding found\n",
    "            d['D-Wave Min'].append(np.NaN)\n",
    "            d['D-Wave Time (Total)'].append(np.NaN)\n",
    "            d['D-Wave Time (Quantum)'].append(np.NaN)\n",
    "            \n",
    "\n",
    "        # CPLEX\n",
    "        if run_cplex:\n",
    "            cplex = CplexOptimizer()\n",
    "            qubo = QuadraticProgram()\n",
    "            for i in range(n):\n",
    "                qubo.binary_var(str(i))\n",
    "            quadratic = {(str(i), str(j)): problem[i][j] for i in range(n) for j in range(n)}\n",
    "            qubo.minimize(quadratic=quadratic)\n",
    "            start_time = time.time()\n",
    "            cplex_result = cplex.solve(qubo)\n",
    "            elapsed_time = time.time() - start_time\n",
    "\n",
    "            d['CPLEX Min'].append(cplex_result.fval)\n",
    "            d['CPLEX Time'].append(elapsed_time)\n",
    "        \n",
    "        df = pd.DataFrame(data=d)\n",
    "        df.to_csv(f'data/results/{n}n_{int(density*100)}p_{max_aij}aij_{num_shots}shots.csv')\n",
    "    return df"
   ]
  },
  {
   "cell_type": "code",
   "execution_count": 136,
   "id": "legislative-machine",
   "metadata": {
    "scrolled": true
   },
   "outputs": [
    {
     "name": "stdout",
     "output_type": "stream",
     "text": [
      "ITERATION 0/50\n",
      "ITERATION 1/50\n",
      "ITERATION 2/50\n",
      "ITERATION 3/50\n",
      "ITERATION 4/50\n",
      "ITERATION 5/50\n",
      "ITERATION 6/50\n",
      "ITERATION 7/50\n",
      "ITERATION 8/50\n",
      "ITERATION 9/50\n",
      "ITERATION 10/50\n",
      "ITERATION 11/50\n",
      "ITERATION 12/50\n",
      "ITERATION 13/50\n",
      "ITERATION 14/50\n",
      "ITERATION 15/50\n",
      "ITERATION 16/50\n",
      "ITERATION 17/50\n",
      "ITERATION 18/50\n",
      "ITERATION 19/50\n",
      "ITERATION 20/50\n",
      "ITERATION 21/50\n",
      "ITERATION 22/50\n",
      "ITERATION 23/50\n",
      "ITERATION 24/50\n",
      "ITERATION 25/50\n",
      "ITERATION 26/50\n",
      "ITERATION 27/50\n",
      "ITERATION 28/50\n",
      "ITERATION 29/50\n",
      "ITERATION 30/50\n",
      "ITERATION 31/50\n",
      "ITERATION 32/50\n",
      "ITERATION 33/50\n",
      "ITERATION 34/50\n",
      "ITERATION 35/50\n",
      "ITERATION 36/50\n",
      "ITERATION 37/50\n",
      "ITERATION 38/50\n",
      "ITERATION 39/50\n",
      "ITERATION 40/50\n",
      "ITERATION 41/50\n",
      "ITERATION 42/50\n",
      "ITERATION 43/50\n",
      "ITERATION 44/50\n",
      "ITERATION 45/50\n",
      "ITERATION 46/50\n",
      "ITERATION 47/50\n",
      "ITERATION 48/50\n",
      "ITERATION 49/50\n"
     ]
    }
   ],
   "source": [
    "results = generate_and_evaluate_qubo(n=128, density=0.85, t=50, run_cplex=False)"
   ]
  },
  {
   "cell_type": "code",
   "execution_count": 137,
   "id": "challenging-revelation",
   "metadata": {},
   "outputs": [
    {
     "data": {
      "text/plain": [
       "Tabu Min                -24289.420000\n",
       "Tabu Time                    0.523315\n",
       "D-Wave Min              -19759.400000\n",
       "D-Wave Time (Total)        282.690792\n",
       "D-Wave Time (Quantum)        0.027665\n",
       "dtype: float64"
      ]
     },
     "execution_count": 137,
     "metadata": {},
     "output_type": "execute_result"
    }
   ],
   "source": [
    "results.mean()"
   ]
  },
  {
   "cell_type": "markdown",
   "id": "married-method",
   "metadata": {},
   "source": [
    "## Native graph"
   ]
  },
  {
   "cell_type": "code",
   "execution_count": 8,
   "id": "strange-dubai",
   "metadata": {},
   "outputs": [],
   "source": [
    "import dimod\n",
    "target_structure = dimod.child_structure_dfs(DWaveSampler())\n",
    "__, target_edgelist, target_adjacency = target_structure"
   ]
  },
  {
   "cell_type": "code",
   "execution_count": null,
   "id": "rotary-public",
   "metadata": {},
   "outputs": [],
   "source": [
    "def generate_and_evaluate_native_qubo(max_aij=100, density=0.85, t=50):\n",
    "    d = {'Tabu Min': [], 'Tabu Time': [], 'D-Wave Min': [], 'D-Wave Time (Total)': [], 'D-Wave Time (Quantum)': []}\n",
    "    \n",
    "    value_range = [x for x in range(-max_aij, max_aij)]\n",
    "    value_probs = [1 - density if x == 0 else (density) / (len(value_range) - 1) for x in value_range]\n",
    "    \n",
    "    for i in range(t):\n",
    "        print(f'ITERATION {i}/{t}')\n",
    "        Q = {}\n",
    "        for edge in target_edgelist:\n",
    "            Q[edge] = np.random.choice(value_range, p=value_probs)\n",
    "            \n",
    "        save_Q(Q, f'data/random_qubo_instances/5730_{int(density*100)}_{i}.txt')\n",
    "\n",
    "        # Classical heuristic solver using tabu search\n",
    "        qbsolv = QBSolv()\n",
    "        start_time = time.time()\n",
    "        response = qbsolv.sample_qubo(Q, num_repeats=50)\n",
    "        elapsed_time = time.time() - start_time\n",
    "        min_energy = list(response.data_vectors['energy'])[0]\n",
    "        d['Tabu Min'].append(min_energy)\n",
    "        d['Tabu Time'].append(elapsed_time)\n",
    "\n",
    "        # D-Wave\n",
    "        try:\n",
    "            sampler = DWaveSampler()\n",
    "            start_time = time.time()\n",
    "            sampleset = sampler.sample_qubo(Q, num_reads=10, label=f'QUBO 5730 variables')\n",
    "            elapsed_time = time.time() - start_time\n",
    "            d['D-Wave Min'].append(min(sampleset.to_pandas_dataframe()['energy']))\n",
    "            d['D-Wave Time (Total)'].append(elapsed_time)\n",
    "            d['D-Wave Time (Quantum)'].append(sampleset.info['timing']['qpu_access_time'] / 10**6)\n",
    "        except ValueError: # no embedding found\n",
    "            d['D-Wave Min'].append(np.NaN)\n",
    "            d['D-Wave Time (Total)'].append(np.NaN)\n",
    "            d['D-Wave Time (Quantum)'].append(np.NaN)\n",
    "        \n",
    "        df = pd.DataFrame(data=d)\n",
    "        df.to_csv(f'data/results/5730_{int(density*100)}.csv')\n",
    "    return df"
   ]
  },
  {
   "cell_type": "code",
   "execution_count": null,
   "id": "adopted-disposal",
   "metadata": {},
   "outputs": [],
   "source": [
    "generate_and_evaluate_native_qubo(max_aij=100, density=0.85, t=50)"
   ]
  },
  {
   "cell_type": "markdown",
   "id": "backed-terrain",
   "metadata": {},
   "source": [
    "## Maximum Tabu can reach"
   ]
  },
  {
   "cell_type": "code",
   "execution_count": 52,
   "id": "parental-tongue",
   "metadata": {},
   "outputs": [
    {
     "name": "stdout",
     "output_type": "stream",
     "text": [
      "-95406584.0\n",
      "2959.8904869556427\n"
     ]
    }
   ],
   "source": [
    "n = 20000\n",
    "problem = create_random_upper_matrix(n, density=0.85)\n",
    "Q = {}\n",
    "for i in range(problem.shape[0]):\n",
    "    for j in range(i, problem.shape[0]):\n",
    "        Q[(i, j)] = problem[i][j]\n",
    "\n",
    "# Classical heuristic solver using tabu search\n",
    "qbsolv = QBSolv()\n",
    "start_time = time.time()\n",
    "response = qbsolv.sample_qubo(Q, num_repeats=10)\n",
    "elapsed_time = time.time() - start_time\n",
    "min_energy = list(response.data_vectors['energy'])[0]\n",
    "print(min_energy)\n",
    "print(elapsed_time)"
   ]
  },
  {
   "cell_type": "markdown",
   "id": "prepared-retrieval",
   "metadata": {},
   "source": [
    "## D-Wave Accuracy tests"
   ]
  },
  {
   "cell_type": "markdown",
   "id": "musical-communication",
   "metadata": {},
   "source": [
    "### Max Aij"
   ]
  },
  {
   "cell_type": "code",
   "execution_count": null,
   "id": "dangerous-sphere",
   "metadata": {},
   "outputs": [],
   "source": [
    "df = generate_and_evaluate_qubo(n=128, density=0.85, max_aij=1, t=10, run_cplex=False, save_matrix=False)"
   ]
  },
  {
   "cell_type": "code",
   "execution_count": 40,
   "id": "religious-china",
   "metadata": {},
   "outputs": [
    {
     "data": {
      "text/plain": [
       "Tabu Min                -3947.500000\n",
       "Tabu Time                   0.361288\n",
       "D-Wave Min              -3899.600000\n",
       "D-Wave Time (Total)       321.383720\n",
       "D-Wave Time (Quantum)       0.027636\n",
       "dtype: float64"
      ]
     },
     "execution_count": 40,
     "metadata": {},
     "output_type": "execute_result"
    }
   ],
   "source": [
    "df.mean()"
   ]
  },
  {
   "cell_type": "markdown",
   "id": "figured-mixture",
   "metadata": {},
   "source": [
    "### Number of shots"
   ]
  },
  {
   "cell_type": "code",
   "execution_count": 48,
   "id": "grand-interstate",
   "metadata": {},
   "outputs": [
    {
     "name": "stdout",
     "output_type": "stream",
     "text": [
      "ITERATION 0/10\n",
      "ITERATION 1/10\n",
      "ITERATION 2/10\n",
      "ITERATION 3/10\n",
      "ITERATION 4/10\n",
      "ITERATION 5/10\n",
      "ITERATION 6/10\n",
      "ITERATION 7/10\n",
      "ITERATION 8/10\n",
      "ITERATION 9/10\n"
     ]
    }
   ],
   "source": [
    "df = generate_and_evaluate_qubo(n=128, density=0.85, max_aij=100, num_shots=1000, t=10, run_cplex=False, save_matrix=False)"
   ]
  },
  {
   "cell_type": "code",
   "execution_count": 49,
   "id": "demanding-binary",
   "metadata": {},
   "outputs": [
    {
     "data": {
      "text/plain": [
       "Tabu Min                -24335.900000\n",
       "Tabu Time                    0.460835\n",
       "D-Wave Min              -22048.900000\n",
       "D-Wave Time (Total)        309.475116\n",
       "D-Wave Time (Quantum)        0.190572\n",
       "dtype: float64"
      ]
     },
     "execution_count": 49,
     "metadata": {},
     "output_type": "execute_result"
    }
   ],
   "source": [
    "df.mean()"
   ]
  },
  {
   "cell_type": "code",
   "execution_count": 50,
   "id": "seasonal-valentine",
   "metadata": {},
   "outputs": [
    {
     "data": {
      "text/plain": [
       "0.9060236112081328"
      ]
     },
     "execution_count": 50,
     "metadata": {},
     "output_type": "execute_result"
    }
   ],
   "source": [
    "-22048.9 / -24335.9"
   ]
  },
  {
   "cell_type": "code",
   "execution_count": null,
   "id": "normal-bonus",
   "metadata": {},
   "outputs": [],
   "source": []
  }
 ],
 "metadata": {
  "kernelspec": {
   "display_name": "Python [conda env:qiskit]",
   "language": "python",
   "name": "conda-env-qiskit-py"
  },
  "language_info": {
   "codemirror_mode": {
    "name": "ipython",
    "version": 3
   },
   "file_extension": ".py",
   "mimetype": "text/x-python",
   "name": "python",
   "nbconvert_exporter": "python",
   "pygments_lexer": "ipython3",
   "version": "3.8.2"
  }
 },
 "nbformat": 4,
 "nbformat_minor": 5
}
